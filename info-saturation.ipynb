{
 "cells": [
  {
   "cell_type": "code",
   "execution_count": 1,
   "metadata": {},
   "outputs": [],
   "source": [
    "import jax\n",
    "import jax.numpy as jnp\n",
    "import flax.linen as nn\n",
    "import optax\n",
    "\n",
    "import numpy as np\n",
    "\n",
    "import tensorflow_probability.substrates.jax as tfp\n",
    "\n",
    "import matplotlib.pyplot as plt"
   ]
  },
  {
   "cell_type": "code",
   "execution_count": 2,
   "metadata": {},
   "outputs": [],
   "source": [
    "def fill_diagonal(a, val):\n",
    "  assert a.ndim >= 2\n",
    "  i, j = jnp.diag_indices(min(a.shape[-2:]))\n",
    "  return a.at[..., i, j].set(val)"
   ]
  },
  {
   "cell_type": "code",
   "execution_count": 78,
   "metadata": {},
   "outputs": [],
   "source": [
    "from typing import Sequence, Any\n",
    "Array = Any\n",
    "\n",
    "import numpy as np\n",
    "import jax\n",
    "import jax.numpy as jnp\n",
    "import flax.linen as nn\n",
    "\n",
    "\n",
    "class MLP(nn.Module):\n",
    "  features: Sequence[int]\n",
    "\n",
    "  @nn.compact\n",
    "  def __call__(self, x):\n",
    "    for feat in self.features[:-1]:\n",
    "      x = nn.elu(nn.Dense(feat)(x))\n",
    "    x = nn.Dense(self.features[-1])(x)\n",
    "    return x\n",
    "\n",
    "class AutoEncoder(nn.Module):\n",
    "  encoder_widths: Sequence[int]\n",
    "  decoder_widths: Sequence[int]\n",
    "  input_shape: Sequence[int]\n",
    "\n",
    "  def setup(self):\n",
    "    input_dim = np.prod(self.input_shape)\n",
    "    self.encoder = MLP(self.encoder_widths)\n",
    "    self.decoder = MLP(self.decoder_widths + (input_dim,))\n",
    "\n",
    "  def __call__(self, x):\n",
    "    return self.decode(self.encode(x))\n",
    "\n",
    "  def encode(self, x):\n",
    "    assert x.shape[1:] == self.input_shape\n",
    "    return self.encoder(jnp.reshape(x, (x.shape[0], -1)))\n",
    "\n",
    "  def decode(self, z):\n",
    "    z = self.decoder(z)\n",
    "    x = nn.sigmoid(z)\n",
    "    x = jnp.reshape(x, (x.shape[0],) + self.input_shape)\n",
    "    return x"
   ]
  },
  {
   "cell_type": "code",
   "execution_count": 79,
   "metadata": {},
   "outputs": [],
   "source": [
    "class Fishnet(nn.Module):\n",
    "    theta_fid: jnp.array\n",
    "    n_hidden_score: list\n",
    "    n_hidden_fisher: list\n",
    "    n_inputs: int=1\n",
    "    n_parameters: int=2\n",
    "    is_iid: bool=True\n",
    "    priorCinv: jnp.array = jnp.eye(2)\n",
    "    priormu: jnp.array = jnp.zeros((2,))\n",
    "\n",
    "    def setup(self):\n",
    "\n",
    "        self.model_score = MLP(self.n_hidden_score + (self.n_parameters,))\n",
    "        self.model_fisher = MLP(self.n_hidden_fisher + (int(self.n_parameters * (self.n_parameters + 1)) // 2,))\n",
    "\n",
    "    def __call__(self, x):\n",
    "        \n",
    "        if self.is_iid:\n",
    "            score = self.model_score(x)\n",
    "            fisher_cholesky = self.model_fisher(x)\n",
    "\n",
    "            F = jax.vmap(self.construct_fisher_matrix_multiple)(fisher_cholesky)\n",
    "\n",
    "            t = jnp.sum(score, axis=0) - jnp.einsum('ij,j->i', self.priorCinv, (self.theta_fid - self.priormu))\n",
    "            F = jnp.sum(F, axis=0) + self.priorCinv\n",
    "            #print(\"F\", F.shape)\n",
    "            mle = self.theta_fid + jnp.einsum('ijk,ik->ij', jnp.linalg.inv(F), t)\n",
    "\n",
    "        else:\n",
    "            score = self.model_score(jnp.squeeze(x))\n",
    "            fisher_cholesky = self.model_fisher(jnp.squeeze(x))\n",
    "            F = (self.construct_fisher_matrix_single)(fisher_cholesky)\n",
    "            mle = self.theta_fid + jnp.einsum('jk,k->j', jnp.linalg.inv(F), score)\n",
    "\n",
    "        # compute MLE\n",
    "        \n",
    "        return mle, score, F\n",
    "    \n",
    "\n",
    "    def construct_fisher_matrix_multiple(self, outputs):\n",
    "        Q = jnp.squeeze(tfp.math.fill_triangular(outputs))\n",
    "        # vmap the jnp.diag function for the batch\n",
    "        _diag = jax.vmap(jnp.diag)\n",
    "        middle = _diag(jnp.triu(Q) - nn.softplus(jnp.triu(Q)))\n",
    "        padding = jnp.zeros(Q.shape)\n",
    "\n",
    "        L = Q - fill_diagonal(padding, middle)\n",
    "\n",
    "        return jnp.einsum('...ij,...jk->...ik', L, jnp.transpose(L, (0, 2, 1)))\n",
    "    \n",
    "    def construct_fisher_matrix_single(self, outputs):\n",
    "        Q = tfp.math.fill_triangular(outputs)\n",
    "        middle = jnp.diag(jnp.triu(Q) - nn.softplus(jnp.triu(Q)))\n",
    "        padding = jnp.zeros(Q.shape)\n",
    "\n",
    "        L = Q - fill_diagonal(padding, middle)\n",
    "\n",
    "        return jnp.einsum('...ij,...jk->...ik', L, jnp.transpose(L, (1, 0)))\n"
   ]
  },
  {
   "cell_type": "code",
   "execution_count": 80,
   "metadata": {},
   "outputs": [],
   "source": [
    "key = jax.random.PRNGKey(0)\n",
    "\n",
    "model_single = Fishnet(jnp.zeros(2,), \n",
    "                n_hidden_fisher=[128,128], \n",
    "                n_hidden_score=[128,128],\n",
    "                n_inputs=1,\n",
    "                n_parameters=2,\n",
    "                is_iid=False)\n",
    "\n",
    "params = model_single.init(key, jax.random.normal(key, (10,)))\n",
    "\n",
    "mle, score, F = model_single.apply(params, jax.random.normal(key, (10,)))"
   ]
  },
  {
   "cell_type": "code",
   "execution_count": 81,
   "metadata": {},
   "outputs": [],
   "source": [
    "class FishnetDeepset(nn.Module):\n",
    "    theta_fid: jnp.array\n",
    "    n_hidden_score: list\n",
    "    n_hidden_fisher: list\n",
    "    n_hidden_globals: list\n",
    "    n_inputs: int=1\n",
    "    n_parameters: int=2\n",
    "    is_iid: bool=True\n",
    "    priorCinv: jnp.array = jnp.eye(2)\n",
    "    priormu: jnp.array = jnp.zeros((2,))\n",
    "\n",
    "    def setup(self):\n",
    "\n",
    "        self.model_score = MLP(self.n_hidden_score)\n",
    "        self.model_fisher = MLP(self.n_hidden_fisher)\n",
    "        self.model_globals = MLP(self.n_hidden_globals + (int(self.n_parameters \\\n",
    "                                        + int(self.n_parameters * (self.n_parameters + 1)) // 2),)\n",
    "                                            )\n",
    "\n",
    "\n",
    "    def __call__(self, x):\n",
    "        \n",
    "        score = self.model_score(x) #[:, jnp.newaxis]\n",
    "        fisher_cholesky = self.model_fisher(x) #[:, jnp.newaxis]\n",
    "\n",
    "        #print(score.shape)\n",
    "\n",
    "        t = jnp.mean(score, axis=0)#- jnp.einsum('ij,j->i', self.priorCinv, (self.theta_fid - self.priormu))\n",
    "        fisher_cholesky = jnp.mean(fisher_cholesky, axis=0)\n",
    "\n",
    "        #print(\"t\", t.shape)\n",
    "        #print(\"fisher\", fisher_cholesky.shape)\n",
    "\n",
    "        outputs = self.model_globals(jnp.concatenate([t, fisher_cholesky], axis=-1))\n",
    "        \n",
    "        \n",
    "        t = outputs[:self.n_parameters]\n",
    "        fisher_cholesky = outputs[self.n_parameters:]\n",
    "\n",
    "        #\n",
    "        # print(\"fisher cholesky\", fisher_cholesky.shape)\n",
    "\n",
    "        F = self.construct_fisher_matrix_single((fisher_cholesky)) + self.priorCinv\n",
    "        # #+ self.priorCinv\n",
    "\n",
    "        mle = t\n",
    "        #mle = jnp.einsum('jk,k->j', jnp.linalg.inv(F), t)\n",
    "\n",
    "        return mle, score, F\n",
    "    \n",
    "\n",
    "    def construct_fisher_matrix_multiple(self, outputs):\n",
    "        Q = jnp.squeeze(tfp.math.fill_triangular(outputs))\n",
    "        # vmap the jnp.diag function for the batch\n",
    "        _diag = jax.vmap(jnp.diag)\n",
    "        middle = _diag(jnp.triu(Q) - nn.softplus(jnp.triu(Q)))\n",
    "        padding = jnp.zeros(Q.shape)\n",
    "\n",
    "        L = Q - fill_diagonal(padding, middle)\n",
    "\n",
    "        return jnp.einsum('...ij,...jk->...ik', L, jnp.transpose(L, (0, 2, 1)))\n",
    "    \n",
    "    def construct_fisher_matrix_single(self, outputs):\n",
    "        Q = tfp.math.fill_triangular(outputs)\n",
    "        middle = jnp.diag(jnp.triu(Q) - nn.softplus(jnp.triu(Q)))\n",
    "        padding = jnp.zeros(Q.shape)\n",
    "\n",
    "        L = Q - fill_diagonal(padding, middle)\n",
    "\n",
    "        return jnp.einsum('...ij,...jk->...ik', L, jnp.transpose(L, (1, 0)))\n"
   ]
  },
  {
   "cell_type": "code",
   "execution_count": 82,
   "metadata": {},
   "outputs": [],
   "source": [
    "key = jax.random.PRNGKey(0)\n",
    "\n",
    "model = FishnetDeepset(jnp.ones(2,), \n",
    "                n_hidden_fisher=[128,128], \n",
    "                n_hidden_score=[128,128],\n",
    "                n_hidden_globals=[50,50],\n",
    "                n_inputs=1,\n",
    "                n_parameters=2,\n",
    "                is_iid=True)\n",
    "\n",
    "params = model.init(key, jnp.ones((10,1)))\n",
    "\n",
    "mle, score, F = model.apply(params, jnp.ones((10,1)))"
   ]
  },
  {
   "cell_type": "code",
   "execution_count": 83,
   "metadata": {},
   "outputs": [
    {
     "data": {
      "text/plain": [
       "(2, 2)"
      ]
     },
     "execution_count": 83,
     "metadata": {},
     "output_type": "execute_result"
    }
   ],
   "source": [
    "F.shape"
   ]
  },
  {
   "cell_type": "markdown",
   "metadata": {},
   "source": [
    "# do a regression scheme"
   ]
  },
  {
   "cell_type": "code",
   "execution_count": 84,
   "metadata": {},
   "outputs": [],
   "source": [
    "import jax.random as jr\n",
    "\n",
    "n_d = 100\n",
    "input_shape = (n_d,)\n",
    "\n",
    "@jax.jit\n",
    "def Fisher(θ, n_d=n_d):\n",
    "    Σ = θ[1]\n",
    "    return jnp.array([[n_d / Σ, 0.], [0., n_d / (2. * Σ**2.)]])\n",
    "\n",
    "\n",
    "def simulator(key, θ):\n",
    "    return θ[0] + jax.random.normal(key, shape=input_shape) * jnp.sqrt(θ[1])\n",
    "\n",
    "\n",
    "key = jr.PRNGKey(0)\n",
    "\n",
    "key1,key2 = jr.split(key)\n",
    "\n",
    "mu_ = jr.uniform(key1, shape=(10000,), minval=-2, maxval=2)\n",
    "sigma_ = jr.uniform(key2, shape=(10000,), minval=0.5, maxval=3.0)\n",
    "\n",
    "theta_ = jnp.stack([mu_, sigma_], axis=-1)\n",
    "\n",
    "keys = jr.split(key, num=10000)\n",
    "\n",
    "data = jax.vmap(simulator)(keys, theta_)[:, :, jnp.newaxis]"
   ]
  },
  {
   "cell_type": "code",
   "execution_count": 85,
   "metadata": {},
   "outputs": [
    {
     "data": {
      "text/plain": [
       "((10000, 100, 1), (10000, 2))"
      ]
     },
     "execution_count": 85,
     "metadata": {},
     "output_type": "execute_result"
    }
   ],
   "source": [
    "data.shape, theta_.shape"
   ]
  },
  {
   "cell_type": "code",
   "execution_count": 86,
   "metadata": {},
   "outputs": [],
   "source": [
    "# train the network for iid data\n",
    "key = jax.random.PRNGKey(0)\n",
    "\n",
    "model = FishnetDeepset(jnp.ones(2,), \n",
    "                n_hidden_fisher=[128,128], \n",
    "                n_hidden_score=[128,128],\n",
    "                n_hidden_globals=[50,50],\n",
    "                n_inputs=1,\n",
    "                n_parameters=2)\n",
    "\n",
    "w = model.init(key, jnp.ones((100,1)))\n",
    "\n",
    "mle, score, F = model.apply(w, jnp.ones((100,1)))"
   ]
  },
  {
   "cell_type": "code",
   "execution_count": 87,
   "metadata": {},
   "outputs": [
    {
     "data": {
      "text/plain": [
       "Array([0.06356273, 0.3846488 ], dtype=float32)"
      ]
     },
     "execution_count": 87,
     "metadata": {},
     "output_type": "execute_result"
    }
   ],
   "source": [
    "mle"
   ]
  },
  {
   "cell_type": "code",
   "execution_count": 88,
   "metadata": {},
   "outputs": [
    {
     "data": {
      "text/plain": [
       "3.4400883"
      ]
     },
     "execution_count": 88,
     "metadata": {},
     "output_type": "execute_result"
    }
   ],
   "source": [
    "np.linalg.det(F)"
   ]
  },
  {
   "cell_type": "code",
   "execution_count": 89,
   "metadata": {},
   "outputs": [],
   "source": [
    "@jax.jit\n",
    "def kl_loss(w, x_batched, theta_batched):\n",
    "\n",
    "    def fn(x, theta):\n",
    "       mle,score,F = model.apply(w, x)\n",
    "       return mle, F\n",
    "    \n",
    "    mle, F = jax.vmap(fn)(x_batched, theta_batched)\n",
    "\n",
    "    return -jnp.mean(-0.5 * jnp.einsum('ij,ij->i', (theta_batched - mle), \\\n",
    "                                             jnp.einsum('ijk,ik->ij', F, (theta_batched - mle))) \\\n",
    "                                                  + 0.5*jnp.log(jnp.linalg.det(F)), axis=0)"
   ]
  },
  {
   "cell_type": "code",
   "execution_count": 90,
   "metadata": {},
   "outputs": [
    {
     "data": {
      "text/plain": [
       "Array(3.291766, dtype=float32)"
      ]
     },
     "execution_count": 90,
     "metadata": {},
     "output_type": "execute_result"
    }
   ],
   "source": [
    "kl_loss(w, data[:10], theta_[:10])"
   ]
  },
  {
   "cell_type": "code",
   "execution_count": 116,
   "metadata": {},
   "outputs": [],
   "source": [
    "from tqdm import tqdm\n",
    "import optax\n",
    "tx = optax.adam(learning_rate=1e-4)\n",
    "opt_state = tx.init(w)\n",
    "loss_grad_fn = jax.value_and_grad(kl_loss)\n",
    "\n",
    "\n",
    "batch_size = 100\n",
    "epochs = 100\n"
   ]
  },
  {
   "cell_type": "code",
   "execution_count": 117,
   "metadata": {},
   "outputs": [],
   "source": [
    "def body_fun(i, inputs):\n",
    "    w,loss_val, opt_state = inputs\n",
    "    x_samples = _data[i]\n",
    "    y_samples = _theta[i]\n",
    "\n",
    "    loss_val, grads = loss_grad_fn(w, x_samples, y_samples)\n",
    "    updates, opt_state = tx.update(grads, opt_state)\n",
    "    w = optax.apply_updates(w, updates)\n",
    "    \n",
    "    return w, loss_val, opt_state"
   ]
  },
  {
   "cell_type": "code",
   "execution_count": 162,
   "metadata": {},
   "outputs": [
    {
     "name": "stderr",
     "output_type": "stream",
     "text": [
      "epoch 7 loss: -2.69924:   8%|▊         | 8/100 [00:21<04:10,  2.72s/it]\n"
     ]
    },
    {
     "ename": "KeyboardInterrupt",
     "evalue": "",
     "output_type": "error",
     "traceback": [
      "\u001b[0;31m---------------------------------------------------------------------------\u001b[0m",
      "\u001b[0;31mKeyboardInterrupt\u001b[0m                         Traceback (most recent call last)",
      "\u001b[0;32m<ipython-input-162-f27acc61dc33>\u001b[0m in \u001b[0;36m<module>\u001b[0;34m\u001b[0m\n\u001b[1;32m     22\u001b[0m       \u001b[0minits\u001b[0m \u001b[0;34m=\u001b[0m \u001b[0;34m(\u001b[0m\u001b[0mw\u001b[0m\u001b[0;34m,\u001b[0m \u001b[0mloss_val\u001b[0m\u001b[0;34m,\u001b[0m \u001b[0mopt_state\u001b[0m\u001b[0;34m)\u001b[0m\u001b[0;34m\u001b[0m\u001b[0;34m\u001b[0m\u001b[0m\n\u001b[1;32m     23\u001b[0m \u001b[0;34m\u001b[0m\u001b[0m\n\u001b[0;32m---> 24\u001b[0;31m       \u001b[0mw\u001b[0m\u001b[0;34m,\u001b[0m \u001b[0mloss_val\u001b[0m\u001b[0;34m,\u001b[0m \u001b[0mopt_state\u001b[0m \u001b[0;34m=\u001b[0m \u001b[0mjax\u001b[0m\u001b[0;34m.\u001b[0m\u001b[0mlax\u001b[0m\u001b[0;34m.\u001b[0m\u001b[0mfori_loop\u001b[0m\u001b[0;34m(\u001b[0m\u001b[0mlower\u001b[0m\u001b[0;34m,\u001b[0m \u001b[0mupper\u001b[0m\u001b[0;34m,\u001b[0m \u001b[0mbody_fun\u001b[0m\u001b[0;34m,\u001b[0m \u001b[0minits\u001b[0m\u001b[0;34m)\u001b[0m\u001b[0;34m\u001b[0m\u001b[0;34m\u001b[0m\u001b[0m\n\u001b[0m\u001b[1;32m     25\u001b[0m \u001b[0;34m\u001b[0m\u001b[0m\n\u001b[1;32m     26\u001b[0m       \u001b[0mlosses\u001b[0m \u001b[0;34m=\u001b[0m \u001b[0mlosses\u001b[0m\u001b[0;34m.\u001b[0m\u001b[0mat\u001b[0m\u001b[0;34m[\u001b[0m\u001b[0mj\u001b[0m\u001b[0;34m]\u001b[0m\u001b[0;34m.\u001b[0m\u001b[0mset\u001b[0m\u001b[0;34m(\u001b[0m\u001b[0mloss_val\u001b[0m\u001b[0;34m)\u001b[0m\u001b[0;34m\u001b[0m\u001b[0;34m\u001b[0m\u001b[0m\n",
      "    \u001b[0;31m[... skipping hidden 1 frame]\u001b[0m\n",
      "\u001b[0;32m/usr/local/anaconda3/lib/python3.8/site-packages/jax/_src/lax/control_flow/loops.py\u001b[0m in \u001b[0;36mfori_loop\u001b[0;34m(lower, upper, body_fun, init_val)\u001b[0m\n\u001b[1;32m   1773\u001b[0m       \u001b[0;32mreturn\u001b[0m \u001b[0minit_val\u001b[0m\u001b[0;34m\u001b[0m\u001b[0;34m\u001b[0m\u001b[0m\n\u001b[1;32m   1774\u001b[0m \u001b[0;34m\u001b[0m\u001b[0m\n\u001b[0;32m-> 1775\u001b[0;31m     (_, result), _ = scan(_fori_scan_body_fun(body_fun), (lower_, init_val),\n\u001b[0m\u001b[1;32m   1776\u001b[0m                           None, length=upper_ - lower_)\n\u001b[1;32m   1777\u001b[0m     \u001b[0;32mreturn\u001b[0m \u001b[0mresult\u001b[0m\u001b[0;34m\u001b[0m\u001b[0;34m\u001b[0m\u001b[0m\n",
      "    \u001b[0;31m[... skipping hidden 1 frame]\u001b[0m\n",
      "\u001b[0;32m/usr/local/anaconda3/lib/python3.8/site-packages/jax/_src/lax/control_flow/loops.py\u001b[0m in \u001b[0;36mscan\u001b[0;34m(f, init, xs, length, reverse, unroll)\u001b[0m\n\u001b[1;32m    261\u001b[0m         f'Effects not supported in `scan`: {disallowed_effects}')\n\u001b[1;32m    262\u001b[0m \u001b[0;34m\u001b[0m\u001b[0m\n\u001b[0;32m--> 263\u001b[0;31m   out = scan_p.bind(*consts, *in_flat,\n\u001b[0m\u001b[1;32m    264\u001b[0m                     \u001b[0mreverse\u001b[0m\u001b[0;34m=\u001b[0m\u001b[0mreverse\u001b[0m\u001b[0;34m,\u001b[0m \u001b[0mlength\u001b[0m\u001b[0;34m=\u001b[0m\u001b[0mlength\u001b[0m\u001b[0;34m,\u001b[0m \u001b[0mjaxpr\u001b[0m\u001b[0;34m=\u001b[0m\u001b[0mjaxpr\u001b[0m\u001b[0;34m,\u001b[0m\u001b[0;34m\u001b[0m\u001b[0;34m\u001b[0m\u001b[0m\n\u001b[1;32m    265\u001b[0m                     \u001b[0mnum_consts\u001b[0m\u001b[0;34m=\u001b[0m\u001b[0mlen\u001b[0m\u001b[0;34m(\u001b[0m\u001b[0mconsts\u001b[0m\u001b[0;34m)\u001b[0m\u001b[0;34m,\u001b[0m \u001b[0mnum_carry\u001b[0m\u001b[0;34m=\u001b[0m\u001b[0mlen\u001b[0m\u001b[0;34m(\u001b[0m\u001b[0minit_flat\u001b[0m\u001b[0;34m)\u001b[0m\u001b[0;34m,\u001b[0m\u001b[0;34m\u001b[0m\u001b[0;34m\u001b[0m\u001b[0m\n",
      "\u001b[0;32m/usr/local/anaconda3/lib/python3.8/site-packages/jax/_src/lax/control_flow/loops.py\u001b[0m in \u001b[0;36mscan_bind\u001b[0;34m(*args, **params)\u001b[0m\n\u001b[1;32m   1036\u001b[0m     \u001b[0m_scan_typecheck\u001b[0m\u001b[0;34m(\u001b[0m\u001b[0;32mTrue\u001b[0m\u001b[0;34m,\u001b[0m \u001b[0;34m*\u001b[0m\u001b[0min_atoms\u001b[0m\u001b[0;34m,\u001b[0m \u001b[0;34m**\u001b[0m\u001b[0mparams\u001b[0m\u001b[0;34m)\u001b[0m\u001b[0;34m\u001b[0m\u001b[0;34m\u001b[0m\u001b[0m\n\u001b[1;32m   1037\u001b[0m     \u001b[0mcore\u001b[0m\u001b[0;34m.\u001b[0m\u001b[0mcheck_jaxpr\u001b[0m\u001b[0;34m(\u001b[0m\u001b[0mparams\u001b[0m\u001b[0;34m[\u001b[0m\u001b[0;34m'jaxpr'\u001b[0m\u001b[0;34m]\u001b[0m\u001b[0;34m.\u001b[0m\u001b[0mjaxpr\u001b[0m\u001b[0;34m)\u001b[0m\u001b[0;34m\u001b[0m\u001b[0;34m\u001b[0m\u001b[0m\n\u001b[0;32m-> 1038\u001b[0;31m   \u001b[0;32mreturn\u001b[0m \u001b[0mcore\u001b[0m\u001b[0;34m.\u001b[0m\u001b[0mAxisPrimitive\u001b[0m\u001b[0;34m.\u001b[0m\u001b[0mbind\u001b[0m\u001b[0;34m(\u001b[0m\u001b[0mscan_p\u001b[0m\u001b[0;34m,\u001b[0m \u001b[0;34m*\u001b[0m\u001b[0margs\u001b[0m\u001b[0;34m,\u001b[0m \u001b[0;34m**\u001b[0m\u001b[0mparams\u001b[0m\u001b[0;34m)\u001b[0m\u001b[0;34m\u001b[0m\u001b[0;34m\u001b[0m\u001b[0m\n\u001b[0m\u001b[1;32m   1039\u001b[0m \u001b[0;34m\u001b[0m\u001b[0m\n\u001b[1;32m   1040\u001b[0m \u001b[0mscan_p\u001b[0m \u001b[0;34m=\u001b[0m \u001b[0mcore\u001b[0m\u001b[0;34m.\u001b[0m\u001b[0mAxisPrimitive\u001b[0m\u001b[0;34m(\u001b[0m\u001b[0;34m\"scan\"\u001b[0m\u001b[0;34m)\u001b[0m\u001b[0;34m\u001b[0m\u001b[0;34m\u001b[0m\u001b[0m\n",
      "\u001b[0;32m/usr/local/anaconda3/lib/python3.8/site-packages/jax/_src/core.py\u001b[0m in \u001b[0;36mbind\u001b[0;34m(self, *args, **params)\u001b[0m\n\u001b[1;32m   2650\u001b[0m     top_trace = (top_trace if not axis_main or axis_main.level < top_trace.level\n\u001b[1;32m   2651\u001b[0m                  else axis_main.with_cur_sublevel())\n\u001b[0;32m-> 2652\u001b[0;31m     \u001b[0;32mreturn\u001b[0m \u001b[0mself\u001b[0m\u001b[0;34m.\u001b[0m\u001b[0mbind_with_trace\u001b[0m\u001b[0;34m(\u001b[0m\u001b[0mtop_trace\u001b[0m\u001b[0;34m,\u001b[0m \u001b[0margs\u001b[0m\u001b[0;34m,\u001b[0m \u001b[0mparams\u001b[0m\u001b[0;34m)\u001b[0m\u001b[0;34m\u001b[0m\u001b[0;34m\u001b[0m\u001b[0m\n\u001b[0m\u001b[1;32m   2653\u001b[0m \u001b[0;34m\u001b[0m\u001b[0m\n\u001b[1;32m   2654\u001b[0m \u001b[0;34m\u001b[0m\u001b[0m\n",
      "\u001b[0;32m/usr/local/anaconda3/lib/python3.8/site-packages/jax/_src/core.py\u001b[0m in \u001b[0;36mbind_with_trace\u001b[0;34m(self, trace, args, params)\u001b[0m\n\u001b[1;32m    381\u001b[0m \u001b[0;34m\u001b[0m\u001b[0m\n\u001b[1;32m    382\u001b[0m   \u001b[0;32mdef\u001b[0m \u001b[0mbind_with_trace\u001b[0m\u001b[0;34m(\u001b[0m\u001b[0mself\u001b[0m\u001b[0;34m,\u001b[0m \u001b[0mtrace\u001b[0m\u001b[0;34m,\u001b[0m \u001b[0margs\u001b[0m\u001b[0;34m,\u001b[0m \u001b[0mparams\u001b[0m\u001b[0;34m)\u001b[0m\u001b[0;34m:\u001b[0m\u001b[0;34m\u001b[0m\u001b[0;34m\u001b[0m\u001b[0m\n\u001b[0;32m--> 383\u001b[0;31m     \u001b[0mout\u001b[0m \u001b[0;34m=\u001b[0m \u001b[0mtrace\u001b[0m\u001b[0;34m.\u001b[0m\u001b[0mprocess_primitive\u001b[0m\u001b[0;34m(\u001b[0m\u001b[0mself\u001b[0m\u001b[0;34m,\u001b[0m \u001b[0mmap\u001b[0m\u001b[0;34m(\u001b[0m\u001b[0mtrace\u001b[0m\u001b[0;34m.\u001b[0m\u001b[0mfull_raise\u001b[0m\u001b[0;34m,\u001b[0m \u001b[0margs\u001b[0m\u001b[0;34m)\u001b[0m\u001b[0;34m,\u001b[0m \u001b[0mparams\u001b[0m\u001b[0;34m)\u001b[0m\u001b[0;34m\u001b[0m\u001b[0;34m\u001b[0m\u001b[0m\n\u001b[0m\u001b[1;32m    384\u001b[0m     \u001b[0;32mreturn\u001b[0m \u001b[0mmap\u001b[0m\u001b[0;34m(\u001b[0m\u001b[0mfull_lower\u001b[0m\u001b[0;34m,\u001b[0m \u001b[0mout\u001b[0m\u001b[0;34m)\u001b[0m \u001b[0;32mif\u001b[0m \u001b[0mself\u001b[0m\u001b[0;34m.\u001b[0m\u001b[0mmultiple_results\u001b[0m \u001b[0;32melse\u001b[0m \u001b[0mfull_lower\u001b[0m\u001b[0;34m(\u001b[0m\u001b[0mout\u001b[0m\u001b[0;34m)\u001b[0m\u001b[0;34m\u001b[0m\u001b[0;34m\u001b[0m\u001b[0m\n\u001b[1;32m    385\u001b[0m \u001b[0;34m\u001b[0m\u001b[0m\n",
      "\u001b[0;32m/usr/local/anaconda3/lib/python3.8/site-packages/jax/_src/core.py\u001b[0m in \u001b[0;36mprocess_primitive\u001b[0;34m(self, primitive, tracers, params)\u001b[0m\n\u001b[1;32m    788\u001b[0m \u001b[0;34m\u001b[0m\u001b[0m\n\u001b[1;32m    789\u001b[0m   \u001b[0;32mdef\u001b[0m \u001b[0mprocess_primitive\u001b[0m\u001b[0;34m(\u001b[0m\u001b[0mself\u001b[0m\u001b[0;34m,\u001b[0m \u001b[0mprimitive\u001b[0m\u001b[0;34m,\u001b[0m \u001b[0mtracers\u001b[0m\u001b[0;34m,\u001b[0m \u001b[0mparams\u001b[0m\u001b[0;34m)\u001b[0m\u001b[0;34m:\u001b[0m\u001b[0;34m\u001b[0m\u001b[0;34m\u001b[0m\u001b[0m\n\u001b[0;32m--> 790\u001b[0;31m     \u001b[0;32mreturn\u001b[0m \u001b[0mprimitive\u001b[0m\u001b[0;34m.\u001b[0m\u001b[0mimpl\u001b[0m\u001b[0;34m(\u001b[0m\u001b[0;34m*\u001b[0m\u001b[0mtracers\u001b[0m\u001b[0;34m,\u001b[0m \u001b[0;34m**\u001b[0m\u001b[0mparams\u001b[0m\u001b[0;34m)\u001b[0m\u001b[0;34m\u001b[0m\u001b[0;34m\u001b[0m\u001b[0m\n\u001b[0m\u001b[1;32m    791\u001b[0m \u001b[0;34m\u001b[0m\u001b[0m\n\u001b[1;32m    792\u001b[0m   \u001b[0;32mdef\u001b[0m \u001b[0mprocess_call\u001b[0m\u001b[0;34m(\u001b[0m\u001b[0mself\u001b[0m\u001b[0;34m,\u001b[0m \u001b[0mprimitive\u001b[0m\u001b[0;34m,\u001b[0m \u001b[0mf\u001b[0m\u001b[0;34m,\u001b[0m \u001b[0mtracers\u001b[0m\u001b[0;34m,\u001b[0m \u001b[0mparams\u001b[0m\u001b[0;34m)\u001b[0m\u001b[0;34m:\u001b[0m\u001b[0;34m\u001b[0m\u001b[0;34m\u001b[0m\u001b[0m\n",
      "\u001b[0;32m/usr/local/anaconda3/lib/python3.8/site-packages/jax/_src/dispatch.py\u001b[0m in \u001b[0;36mapply_primitive\u001b[0;34m(prim, *args, **params)\u001b[0m\n\u001b[1;32m    142\u001b[0m     \u001b[0;32mraise\u001b[0m \u001b[0mValueError\u001b[0m\u001b[0;34m(\u001b[0m\u001b[0mmsg\u001b[0m\u001b[0;34m)\u001b[0m \u001b[0;32mfrom\u001b[0m \u001b[0;32mNone\u001b[0m\u001b[0;34m\u001b[0m\u001b[0;34m\u001b[0m\u001b[0m\n\u001b[1;32m    143\u001b[0m \u001b[0;34m\u001b[0m\u001b[0m\n\u001b[0;32m--> 144\u001b[0;31m   \u001b[0;32mreturn\u001b[0m \u001b[0mcompiled_fun\u001b[0m\u001b[0;34m(\u001b[0m\u001b[0;34m*\u001b[0m\u001b[0margs\u001b[0m\u001b[0;34m)\u001b[0m\u001b[0;34m\u001b[0m\u001b[0;34m\u001b[0m\u001b[0m\n\u001b[0m\u001b[1;32m    145\u001b[0m \u001b[0;34m\u001b[0m\u001b[0m\n\u001b[1;32m    146\u001b[0m \u001b[0;34m\u001b[0m\u001b[0m\n",
      "\u001b[0;32m/usr/local/anaconda3/lib/python3.8/site-packages/jax/_src/profiler.py\u001b[0m in \u001b[0;36mwrapper\u001b[0;34m(*args, **kwargs)\u001b[0m\n\u001b[1;32m    312\u001b[0m   \u001b[0;32mdef\u001b[0m \u001b[0mwrapper\u001b[0m\u001b[0;34m(\u001b[0m\u001b[0;34m*\u001b[0m\u001b[0margs\u001b[0m\u001b[0;34m,\u001b[0m \u001b[0;34m**\u001b[0m\u001b[0mkwargs\u001b[0m\u001b[0;34m)\u001b[0m\u001b[0;34m:\u001b[0m\u001b[0;34m\u001b[0m\u001b[0;34m\u001b[0m\u001b[0m\n\u001b[1;32m    313\u001b[0m     \u001b[0;32mwith\u001b[0m \u001b[0mTraceAnnotation\u001b[0m\u001b[0;34m(\u001b[0m\u001b[0mname\u001b[0m\u001b[0;34m,\u001b[0m \u001b[0;34m**\u001b[0m\u001b[0mdecorator_kwargs\u001b[0m\u001b[0;34m)\u001b[0m\u001b[0;34m:\u001b[0m\u001b[0;34m\u001b[0m\u001b[0;34m\u001b[0m\u001b[0m\n\u001b[0;32m--> 314\u001b[0;31m       \u001b[0;32mreturn\u001b[0m \u001b[0mfunc\u001b[0m\u001b[0;34m(\u001b[0m\u001b[0;34m*\u001b[0m\u001b[0margs\u001b[0m\u001b[0;34m,\u001b[0m \u001b[0;34m**\u001b[0m\u001b[0mkwargs\u001b[0m\u001b[0;34m)\u001b[0m\u001b[0;34m\u001b[0m\u001b[0;34m\u001b[0m\u001b[0m\n\u001b[0m\u001b[1;32m    315\u001b[0m     \u001b[0;32mreturn\u001b[0m \u001b[0mwrapper\u001b[0m\u001b[0;34m\u001b[0m\u001b[0;34m\u001b[0m\u001b[0m\n\u001b[1;32m    316\u001b[0m   \u001b[0;32mreturn\u001b[0m \u001b[0mwrapper\u001b[0m\u001b[0;34m\u001b[0m\u001b[0;34m\u001b[0m\u001b[0m\n",
      "\u001b[0;32m/usr/local/anaconda3/lib/python3.8/site-packages/jax/_src/interpreters/pxla.py\u001b[0m in \u001b[0;36m__call__\u001b[0;34m(self, *args)\u001b[0m\n\u001b[1;32m   1353\u001b[0m           results.consume_token())\n\u001b[1;32m   1354\u001b[0m     \u001b[0;32melse\u001b[0m\u001b[0;34m:\u001b[0m\u001b[0;34m\u001b[0m\u001b[0;34m\u001b[0m\u001b[0m\n\u001b[0;32m-> 1355\u001b[0;31m       \u001b[0mresults\u001b[0m \u001b[0;34m=\u001b[0m \u001b[0mself\u001b[0m\u001b[0;34m.\u001b[0m\u001b[0mxla_executable\u001b[0m\u001b[0;34m.\u001b[0m\u001b[0mexecute_sharded\u001b[0m\u001b[0;34m(\u001b[0m\u001b[0minput_bufs\u001b[0m\u001b[0;34m)\u001b[0m\u001b[0;34m\u001b[0m\u001b[0;34m\u001b[0m\u001b[0m\n\u001b[0m\u001b[1;32m   1356\u001b[0m     \u001b[0;32mif\u001b[0m \u001b[0mdispatch\u001b[0m\u001b[0;34m.\u001b[0m\u001b[0mneeds_check_special\u001b[0m\u001b[0;34m(\u001b[0m\u001b[0;34m)\u001b[0m\u001b[0;34m:\u001b[0m\u001b[0;34m\u001b[0m\u001b[0;34m\u001b[0m\u001b[0m\n\u001b[1;32m   1357\u001b[0m       \u001b[0mout_arrays\u001b[0m \u001b[0;34m=\u001b[0m \u001b[0mresults\u001b[0m\u001b[0;34m.\u001b[0m\u001b[0mdisassemble_into_single_device_arrays\u001b[0m\u001b[0;34m(\u001b[0m\u001b[0;34m)\u001b[0m\u001b[0;34m\u001b[0m\u001b[0;34m\u001b[0m\u001b[0m\n",
      "\u001b[0;31mKeyboardInterrupt\u001b[0m: "
     ]
    }
   ],
   "source": [
    "key = jax.random.PRNGKey(999)\n",
    "\n",
    "losses = jnp.zeros(epochs)\n",
    "\n",
    "loss_val = 0.\n",
    "\n",
    "n_train = 10000\n",
    "\n",
    "lower = 0\n",
    "upper = n_train // batch_size\n",
    "\n",
    "pbar = tqdm(range(epochs), leave=True, position=0)\n",
    "\n",
    "for j in pbar:\n",
    "      key,rng = jax.random.split(key)\n",
    "\n",
    "      # shuffle data every epoch\n",
    "      randidx = jax.random.shuffle(key, jnp.arange(theta_.reshape(-1, 2).shape[0]))\n",
    "      _data = data.reshape(-1, 100, 1)[randidx].reshape(batch_size, -1, 100, 1)\n",
    "      _theta = theta_.reshape(-1, 2)[randidx].reshape(batch_size, -1, 2)\n",
    "\n",
    "      inits = (w, loss_val, opt_state)\n",
    "\n",
    "      w, loss_val, opt_state = jax.lax.fori_loop(lower, upper, body_fun, inits)\n",
    "\n",
    "      losses = losses.at[j].set(loss_val)\n",
    "      #val_losses.append(val_loss)\n",
    "      pbar.set_description('epoch %d loss: %.5f'%(j, loss_val))"
   ]
  },
  {
   "cell_type": "code",
   "execution_count": 149,
   "metadata": {},
   "outputs": [
    {
     "data": {
      "text/plain": [
       "[<matplotlib.lines.Line2D at 0x7fe5752db340>]"
      ]
     },
     "execution_count": 149,
     "metadata": {},
     "output_type": "execute_result"
    },
    {
     "data": {
      "image/png": "[encoded data removed]",
      "text/plain": [
       "<Figure size 432x288 with 1 Axes>"
      ]
     },
     "metadata": {
      "needs_background": "light"
     },
     "output_type": "display_data"
    }
   ],
   "source": [
    "plt.plot(losses)"
   ]
  },
  {
   "cell_type": "code",
   "execution_count": 150,
   "metadata": {},
   "outputs": [],
   "source": [
    "_app = lambda d: model.apply(w, d)\n",
    "\n",
    "mle_pred,_,F_pred = jax.vmap(_app)(data.reshape(-1, 100, 1)[-1000:])"
   ]
  },
  {
   "cell_type": "code",
   "execution_count": 151,
   "metadata": {},
   "outputs": [
    {
     "data": {
      "text/plain": [
       "<matplotlib.collections.PathCollection at 0x7fe5a0d90a60>"
      ]
     },
     "execution_count": 151,
     "metadata": {},
     "output_type": "execute_result"
    },
    {
     "data": {
      "image/png": "[encoded data removed]",
      "text/plain": [
       "<Figure size 432x288 with 2 Axes>"
      ]
     },
     "metadata": {
      "needs_background": "light"
     },
     "output_type": "display_data"
    }
   ],
   "source": [
    "plt.subplot(121)\n",
    "plt.scatter(theta_.reshape(-1,2)[-1000:, 0], mle_pred[:, 0], s=2)\n",
    "plt.subplot(122)\n",
    "plt.scatter(theta_.reshape(-1,2)[-1000:, 1], mle_pred[:, 1], s=2)"
   ]
  },
  {
   "cell_type": "code",
   "execution_count": 152,
   "metadata": {},
   "outputs": [],
   "source": [
    "@jax.jit\n",
    "def Fisher(θ, n_d=n_d):\n",
    "    Σ = θ[1]\n",
    "    return jnp.array([[n_d / Σ, 0.], [0., n_d / (2. * Σ**2.)]])\n",
    "\n",
    "F_true = jax.vmap(Fisher)(theta_.reshape(-1, 2)[-1000:])"
   ]
  },
  {
   "cell_type": "code",
   "execution_count": 153,
   "metadata": {},
   "outputs": [
    {
     "data": {
      "text/plain": [
       "Array([[[112.028824,   0.      ],\n",
       "        [  0.      ,  62.75229 ]],\n",
       "\n",
       "       [[192.69997 ,   0.      ],\n",
       "        [  0.      , 185.66637 ]],\n",
       "\n",
       "       [[ 50.472633,   0.      ],\n",
       "        [  0.      ,  12.737433]],\n",
       "\n",
       "       [[ 91.64879 ,   0.      ],\n",
       "        [  0.      ,  41.9975  ]],\n",
       "\n",
       "       [[ 46.800247,   0.      ],\n",
       "        [  0.      ,  10.951315]]], dtype=float32)"
      ]
     },
     "execution_count": 153,
     "metadata": {},
     "output_type": "execute_result"
    }
   ],
   "source": [
    "F_true[:5]"
   ]
  },
  {
   "cell_type": "code",
   "execution_count": 154,
   "metadata": {},
   "outputs": [
    {
     "data": {
      "text/plain": [
       "Array([[[129.65286   ,  -1.5524082 ],\n",
       "        [ -1.5524082 ,  38.539387  ]],\n",
       "\n",
       "       [[176.33308   ,  -0.83014643],\n",
       "        [ -0.83014643, 130.63501   ]],\n",
       "\n",
       "       [[ 41.35161   ,   0.44327524],\n",
       "        [  0.44327524,  12.2382    ]],\n",
       "\n",
       "       [[ 76.86422   ,   0.66495377],\n",
       "        [  0.66495377,  30.64038   ]],\n",
       "\n",
       "       [[ 46.99787   ,  -1.1218075 ],\n",
       "        [ -1.1218075 ,  18.543173  ]]], dtype=float32)"
      ]
     },
     "execution_count": 154,
     "metadata": {},
     "output_type": "execute_result"
    }
   ],
   "source": [
    "F_pred[:5]"
   ]
  },
  {
   "cell_type": "code",
   "execution_count": 155,
   "metadata": {},
   "outputs": [],
   "source": [
    "θ_fid = jnp.array([0.0, 1.25])\n",
    "\n",
    "lo = [-1.0, 0.5]\n",
    "hi = [1.0, 3.0]\n",
    "\n",
    "num = 10\n",
    "\n",
    "xs = jnp.linspace(-1.0, 1.0, num) # MEAN\n",
    "ys = jnp.linspace(0.5, 3.0, num) #jnp.logspace(-1.0, 0.0, num) # VARIANCE\n",
    "\n",
    "\n",
    "xs,ys = jnp.meshgrid(xs, ys)\n",
    "\n",
    "fishers = []\n",
    "\n",
    "for _mu,_sigma in zip(xs.ravel(), ys.ravel()):\n",
    "  fishers.append(Fisher(jnp.array([_mu,_sigma]), n_d=n_d))"
   ]
  },
  {
   "cell_type": "code",
   "execution_count": 156,
   "metadata": {},
   "outputs": [
    {
     "name": "stderr",
     "output_type": "stream",
     "text": [
      "No artists with labels found to put in legend.  Note that artists whose label start with an underscore are ignored when legend() is called with no argument.\n"
     ]
    },
    {
     "data": {
      "image/png": "[encoded data removed]",
      "text/plain": [
       "<Figure size 432x288 with 2 Axes>"
      ]
     },
     "metadata": {
      "needs_background": "light"
     },
     "output_type": "display_data"
    }
   ],
   "source": [
    "_data = jax.vmap(jnp.linalg.det)(jnp.array(fishers)).reshape(xs.shape) #/ ys #jnp.array(fishers)[:, 0, 0].reshape(xs.shape) / ys #jax.vmap(jnp.linalg.det)(jnp.array(fishers)).reshape(xs.shape)\n",
    "\n",
    "im = plt.contourf(xs, ys, 0.5*np.log(_data), cmap='viridis', levels=10)\n",
    "cbar = plt.colorbar(im)\n",
    "#plt.yscale('log')\n",
    "plt.ylabel('$\\Sigma$')\n",
    "plt.xlabel('$\\mu$')\n",
    "plt.title(r'$ \\frac{1}{2} \\ln \\det F_{\\rm true}(\\theta)$')\n",
    "plt.legend(framealpha=0., loc='lower left')\n",
    "plt.show()"
   ]
  },
  {
   "cell_type": "code",
   "execution_count": 157,
   "metadata": {},
   "outputs": [
    {
     "name": "stderr",
     "output_type": "stream",
     "text": [
      "100it [00:27,  3.62it/s]\n"
     ]
    }
   ],
   "source": [
    "fishers_pred = []\n",
    "\n",
    "key = jr.PRNGKey(99)\n",
    "n_d_test = 500\n",
    "\n",
    "def _getf(d):\n",
    "    return model.apply(w, d)[2]\n",
    "\n",
    "\n",
    "for mu,sigma in tqdm(zip(xs.ravel(), ys.ravel())):\n",
    "  # generate many data realization at each gridpoint\n",
    "    key, rng = jr.split(key)\n",
    "    keys = jr.split(key, 2000)\n",
    "\n",
    "    sims = jax.vmap(simulator)(keys, jnp.tile(jnp.array([[mu], [sigma]]), 2000).T)[:, :, jnp.newaxis]\n",
    "    \n",
    "    fpreds = jax.vmap(_getf)(sims)\n",
    "\n",
    "    fishers_pred.append(jnp.mean(fpreds, axis=0))"
   ]
  },
  {
   "cell_type": "code",
   "execution_count": 158,
   "metadata": {},
   "outputs": [
    {
     "data": {
      "text/plain": [
       "Array(2109.3748, dtype=float32)"
      ]
     },
     "execution_count": 158,
     "metadata": {},
     "output_type": "execute_result"
    }
   ],
   "source": [
    "jnp.linalg.det(fishers[30])\n"
   ]
  },
  {
   "cell_type": "code",
   "execution_count": 159,
   "metadata": {},
   "outputs": [
    {
     "data": {
      "text/plain": [
       "Array(1923.811, dtype=float32)"
      ]
     },
     "execution_count": 159,
     "metadata": {},
     "output_type": "execute_result"
    }
   ],
   "source": [
    "jnp.linalg.det(fishers_pred[30])"
   ]
  },
  {
   "cell_type": "code",
   "execution_count": 160,
   "metadata": {},
   "outputs": [
    {
     "name": "stderr",
     "output_type": "stream",
     "text": [
      "No artists with labels found to put in legend.  Note that artists whose label start with an underscore are ignored when legend() is called with no argument.\n"
     ]
    },
    {
     "data": {
      "image/png": "[encoded data removed]",
      "text/plain": [
       "<Figure size 432x288 with 2 Axes>"
      ]
     },
     "metadata": {
      "needs_background": "light"
     },
     "output_type": "display_data"
    }
   ],
   "source": [
    "_data = jax.vmap(jnp.linalg.det)(jnp.array(fishers_pred)).reshape(xs.shape) #/ ys#jnp.array(fishers_pred)[:, 1, 1].reshape(xs.shape) / ys#jax.vmap(jnp.linalg.det)(jnp.array(fishers_pred)).reshape(xs.shape)\n",
    "\n",
    "im = plt.contourf(xs, ys, 0.5*np.log(_data), cmap='viridis', levels=10)\n",
    "plt.colorbar(im)\n",
    "#plt.yscale('log')\n",
    "plt.ylabel('$\\Sigma$')\n",
    "plt.xlabel('$\\mu$')\n",
    "plt.title(r'$ \\frac{1}{2} \\ln \\det \\langle F_{\\rm NN}(\\theta) \\rangle $')\n",
    "plt.legend(framealpha=0., loc='lower left')\n",
    "plt.show()"
   ]
  },
  {
   "cell_type": "code",
   "execution_count": 146,
   "metadata": {},
   "outputs": [
    {
     "data": {
      "text/plain": [
       "'/Users/lucas/repositories/sapphire_sbi'"
      ]
     },
     "execution_count": 146,
     "metadata": {},
     "output_type": "execute_result"
    }
   ],
   "source": [
    "pwd"
   ]
  },
  {
   "cell_type": "code",
   "execution_count": 919,
   "metadata": {},
   "outputs": [],
   "source": [
    "np.save(\"iidnoise_fishers_pred\", fishers_pred)\n",
    "np.save(\"iidnoise_fishers_true\", fishers)\n",
    "\n",
    "np.save(\"xy_grid\", (xs, ys))"
   ]
  },
  {
   "cell_type": "code",
   "execution_count": 161,
   "metadata": {},
   "outputs": [
    {
     "data": {
      "image/png": "[encoded data removed]",
      "text/plain": [
       "<Figure size 576x288 with 3 Axes>"
      ]
     },
     "metadata": {
      "needs_background": "light"
     },
     "output_type": "display_data"
    }
   ],
   "source": [
    "fig, axs = plt.subplots(nrows=1, ncols=2, figsize=(8,4), sharex=\"col\", sharey=True)\n",
    "(ax1, ax2) = axs\n",
    "\n",
    "levels = [2.5, 3.0, 3.5, 4.0, 4.5, 5.0, 5.5]\n",
    "\n",
    "dets1 =  jax.vmap(jnp.linalg.det)(jnp.array(fishers)).reshape(xs.shape)\n",
    "\n",
    "ax1.contourf(xs, ys, 0.5*np.log(dets1), cmap='viridis', levels=levels)\n",
    "\n",
    "dets2 = jax.vmap(jnp.linalg.det)(jnp.array(fishers_pred)).reshape(xs.shape) \n",
    "\n",
    "cs2 = ax2.contourf(xs, ys, 0.5*np.log(dets2), cmap='viridis', levels=levels)\n",
    "\n",
    "plt.colorbar(cs2)\n",
    "\n",
    "ax1.set_title(r'$ \\frac{1}{2} \\ln \\det F_{\\rm true}(\\theta)$')\n",
    "\n",
    "ax1.set_ylabel('$\\Sigma$')\n",
    "ax1.set_xlabel('$\\mu$')\n",
    "\n",
    "ax2.set_xlabel('$\\mu$')\n",
    "ax2.set_title(r'$ \\frac{1}{2} \\ln \\det \\langle F_{\\rm NN}(\\theta) \\rangle $')\n",
    "plt.tight_layout()\n",
    "\n",
    "#plt.savefig(\"/Users/lucas/Documents/Documents - MacBook Pro di Admin/imperial/fishnets/info-comparison.png\", dpi=400)"
   ]
  },
  {
   "cell_type": "code",
   "execution_count": 132,
   "metadata": {},
   "outputs": [
    {
     "name": "stderr",
     "output_type": "stream",
     "text": [
      "No artists with labels found to put in legend.  Note that artists whose label start with an underscore are ignored when legend() is called with no argument.\n"
     ]
    },
    {
     "data": {
      "image/png": "[encoded data removed]",
      "text/plain": [
       "<Figure size 432x288 with 2 Axes>"
      ]
     },
     "metadata": {
      "needs_background": "light"
     },
     "output_type": "display_data"
    }
   ],
   "source": [
    "_data = jax.vmap(jnp.linalg.det)(jnp.array(fishers_pred) - jnp.array(fishers)).reshape(xs.shape)\n",
    "\n",
    "\n",
    "im = plt.contourf(xs, ys, (_data), cmap='viridis', levels=100)\n",
    "plt.colorbar(im)\n",
    "#plt.yscale('log')\n",
    "plt.ylabel('$\\Sigma$')\n",
    "plt.xlabel('$\\mu$')\n",
    "plt.title(r'$ \\frac{1}{2} \\ln \\det F(\\theta)$')\n",
    "plt.legend(framealpha=0., loc='lower left')\n",
    "plt.show()"
   ]
  },
  {
   "cell_type": "code",
   "execution_count": 421,
   "metadata": {},
   "outputs": [
    {
     "data": {
      "text/plain": [
       "Array([[9.830508, 0.      ],\n",
       "       [0.      , 4.831945]], dtype=float32)"
      ]
     },
     "execution_count": 421,
     "metadata": {},
     "output_type": "execute_result"
    }
   ],
   "source": [
    "fishers[200]"
   ]
  },
  {
   "cell_type": "code",
   "execution_count": null,
   "metadata": {},
   "outputs": [],
   "source": []
  }
 ],
 "metadata": {
  "kernelspec": {
   "display_name": "Python 3",
   "language": "python",
   "name": "python3"
  },
  "language_info": {
   "codemirror_mode": {
    "name": "ipython",
    "version": 3
   },
   "file_extension": ".py",
   "mimetype": "text/x-python",
   "name": "python",
   "nbconvert_exporter": "python",
   "pygments_lexer": "ipython3",
   "version": "3.8.8"
  },
  "vscode": {
   "interpreter": {
    "hash": "40d3a090f54c6569ab1632332b64b2c03c39dcf918b08424e98f38b5ae0af88f"
   }
  }
 },
 "nbformat": 4,
 "nbformat_minor": 4
}
