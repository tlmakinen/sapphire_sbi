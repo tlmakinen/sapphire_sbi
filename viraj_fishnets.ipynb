{
 "cells": [
  {
   "cell_type": "code",
   "execution_count": 1,
   "metadata": {},
   "outputs": [],
   "source": [
    "import jax\n",
    "import jax.numpy as jnp\n",
    "import flax.linen as nn\n",
    "import optax\n",
    "\n",
    "import numpy as np\n",
    "\n",
    "import tensorflow_probability.substrates.jax as tfp\n",
    "\n",
    "import matplotlib.pyplot as plt"
   ]
  },
  {
   "cell_type": "code",
   "execution_count": 2,
   "metadata": {},
   "outputs": [],
   "source": [
    "def fill_diagonal(a, val):\n",
    "  assert a.ndim >= 2\n",
    "  i, j = jnp.diag_indices(min(a.shape[-2:]))\n",
    "  return a.at[..., i, j].set(val)"
   ]
  },
  {
   "cell_type": "code",
   "execution_count": 4,
   "metadata": {},
   "outputs": [],
   "source": [
    "from typing import Sequence, Any\n",
    "Array = Any\n",
    "\n",
    "import numpy as np\n",
    "import jax\n",
    "import jax.numpy as jnp\n",
    "import flax.linen as nn\n",
    "\n",
    "\n",
    "class MLP(nn.Module):\n",
    "  features: Sequence[int]\n",
    "\n",
    "  @nn.compact\n",
    "  def __call__(self, x):\n",
    "    for feat in self.features[:-1]:\n",
    "      x = nn.elu(nn.Dense(feat)(x))\n",
    "    x = nn.Dense(self.features[-1])(x)\n",
    "    return x"
   ]
  },
  {
   "cell_type": "code",
   "execution_count": 5,
   "metadata": {},
   "outputs": [],
   "source": [
    "class Fishnet(nn.Module):\n",
    "    theta_fid: jnp.array\n",
    "    n_hidden_score: list\n",
    "    n_hidden_fisher: list\n",
    "    n_inputs: int=1\n",
    "    n_parameters: int=2\n",
    "    is_iid: bool=True\n",
    "    priorCinv: jnp.array = jnp.eye(2)\n",
    "    priormu: jnp.array = jnp.zeros((2,))\n",
    "\n",
    "    def setup(self):\n",
    "\n",
    "        self.model_score = MLP(self.n_hidden_score + (self.n_parameters,))\n",
    "        self.model_fisher = MLP(self.n_hidden_fisher + (int(self.n_parameters * (self.n_parameters + 1)) // 2,))\n",
    "\n",
    "    def __call__(self, x):\n",
    "        \n",
    "        if self.is_iid:\n",
    "            score = self.model_score(x)\n",
    "            fisher_cholesky = self.model_fisher(x)\n",
    "\n",
    "            F = jax.vmap(self.construct_fisher_matrix_multiple)(fisher_cholesky)\n",
    "\n",
    "            t = jnp.sum(score, axis=0) - jnp.einsum('ij,j->i', self.priorCinv, (self.theta_fid - self.priormu))\n",
    "            F = jnp.sum(F, axis=0) + self.priorCinv\n",
    "            #print(\"F\", F.shape)\n",
    "            mle = self.theta_fid + jnp.einsum('ijk,ik->ij', jnp.linalg.inv(F), t)\n",
    "\n",
    "        else:\n",
    "            score = self.model_score(jnp.squeeze(x))\n",
    "            fisher_cholesky = self.model_fisher(jnp.squeeze(x))\n",
    "            F = (self.construct_fisher_matrix_single)(fisher_cholesky)\n",
    "            mle = self.theta_fid + jnp.einsum('jk,k->j', jnp.linalg.inv(F), score)\n",
    "\n",
    "        # compute MLE\n",
    "        \n",
    "        return mle, score, F\n",
    "    \n",
    "\n",
    "    def construct_fisher_matrix_multiple(self, outputs):\n",
    "        Q = jnp.squeeze(tfp.math.fill_triangular(outputs))\n",
    "        # vmap the jnp.diag function for the batch\n",
    "        _diag = jax.vmap(jnp.diag)\n",
    "        middle = _diag(jnp.triu(Q) - nn.softplus(jnp.triu(Q)))\n",
    "        padding = jnp.zeros(Q.shape)\n",
    "\n",
    "        L = Q - fill_diagonal(padding, middle)\n",
    "\n",
    "        return jnp.einsum('...ij,...jk->...ik', L, jnp.transpose(L, (0, 2, 1)))\n",
    "    \n",
    "    def construct_fisher_matrix_single(self, outputs):\n",
    "        Q = tfp.math.fill_triangular(outputs)\n",
    "        middle = jnp.diag(jnp.triu(Q) - nn.softplus(jnp.triu(Q)))\n",
    "        padding = jnp.zeros(Q.shape)\n",
    "\n",
    "        L = Q - fill_diagonal(padding, middle)\n",
    "\n",
    "        return jnp.einsum('...ij,...jk->...ik', L, jnp.transpose(L, (1, 0)))\n"
   ]
  },
  {
   "cell_type": "code",
   "execution_count": 6,
   "metadata": {},
   "outputs": [],
   "source": [
    "key = jax.random.PRNGKey(0)\n",
    "\n",
    "model_single = Fishnet(jnp.zeros(2,), \n",
    "                n_hidden_fisher=[128,128], \n",
    "                n_hidden_score=[128,128],\n",
    "                n_inputs=1,\n",
    "                n_parameters=2,\n",
    "                is_iid=False)\n",
    "\n",
    "params = model_single.init(key, jax.random.normal(key, (10,)))\n",
    "\n",
    "mle, score, F = model_single.apply(params, jax.random.normal(key, (10,)))"
   ]
  },
  {
   "cell_type": "code",
   "execution_count": 83,
   "metadata": {},
   "outputs": [],
   "source": [
    "class FishnetDeepset(nn.Module):\n",
    "    theta_fid: jnp.array\n",
    "    n_hidden_score: list\n",
    "    n_hidden_fisher: list\n",
    "    n_hidden_globals: list\n",
    "    n_inputs: int=1\n",
    "    n_parameters: int=2\n",
    "    is_iid: bool=True\n",
    "    #priorCinv: jnp.array = jnp.eye(2)\n",
    "    #priormu: jnp.array = jnp.zeros((2,))\n",
    "\n",
    "    def setup(self):\n",
    "        \n",
    "        self.priorCinv = jnp.eye(self.n_parameters)\n",
    "        self.priormu = jnp.zeros(self.n_parameters)\n",
    "\n",
    "        self.model_score = MLP(self.n_hidden_score)\n",
    "        self.model_fisher = MLP(self.n_hidden_fisher)\n",
    "        self.model_globals = MLP(self.n_hidden_globals + (int(self.n_parameters \\\n",
    "                                        + int(self.n_parameters * (self.n_parameters + 1)) // 2),)\n",
    "                                            )\n",
    "\n",
    "\n",
    "    def __call__(self, x):\n",
    "        \n",
    "        score = self.model_score(x) #[:, jnp.newaxis]\n",
    "        fisher_cholesky = self.model_fisher(x) #[:, jnp.newaxis]\n",
    "\n",
    "        #print(score.shape)\n",
    "\n",
    "        t = jnp.mean(score, axis=0)#- jnp.einsum('ij,j->i', self.priorCinv, (self.theta_fid - self.priormu))\n",
    "        fisher_cholesky = jnp.mean(fisher_cholesky, axis=0)\n",
    "\n",
    "        #print(\"t\", t.shape)\n",
    "        #print(\"fisher\", fisher_cholesky.shape)\n",
    "\n",
    "        outputs = self.model_globals(jnp.concatenate([t, fisher_cholesky], axis=-1))\n",
    "        \n",
    "        \n",
    "        t = outputs[:self.n_parameters]\n",
    "        fisher_cholesky = outputs[self.n_parameters:]\n",
    "\n",
    "        #\n",
    "        # print(\"fisher cholesky\", fisher_cholesky.shape)\n",
    "\n",
    "        F = self.construct_fisher_matrix_single((fisher_cholesky)) + self.priorCinv\n",
    "        # #+ self.priorCinv\n",
    "\n",
    "        mle = t\n",
    "        #mle = jnp.einsum('jk,k->j', jnp.linalg.inv(F), t)\n",
    "\n",
    "        return mle, score, F\n",
    "    \n",
    "\n",
    "    def construct_fisher_matrix_multiple(self, outputs):\n",
    "        Q = jnp.squeeze(tfp.math.fill_triangular(outputs))\n",
    "        # vmap the jnp.diag function for the batch\n",
    "        _diag = jax.vmap(jnp.diag)\n",
    "        middle = _diag(jnp.triu(Q) - nn.softplus(jnp.triu(Q)))\n",
    "        padding = jnp.zeros(Q.shape)\n",
    "\n",
    "        L = Q - fill_diagonal(padding, middle)\n",
    "\n",
    "        return jnp.einsum('...ij,...jk->...ik', L, jnp.transpose(L, (0, 2, 1)))\n",
    "    \n",
    "    def construct_fisher_matrix_single(self, outputs):\n",
    "        Q = tfp.math.fill_triangular(outputs)\n",
    "        middle = jnp.diag(jnp.triu(Q) - nn.softplus(jnp.triu(Q)))\n",
    "        padding = jnp.zeros(Q.shape)\n",
    "\n",
    "        L = Q - fill_diagonal(padding, middle)\n",
    "\n",
    "        return jnp.einsum('...ij,...jk->...ik', L, jnp.transpose(L, (1, 0)))\n"
   ]
  },
  {
   "cell_type": "code",
   "execution_count": 84,
   "metadata": {},
   "outputs": [],
   "source": [
    "key = jax.random.PRNGKey(0)\n",
    "\n",
    "model = FishnetDeepset(jnp.ones(2,), \n",
    "                n_hidden_fisher=[128,128], \n",
    "                n_hidden_score=[128,128],\n",
    "                n_hidden_globals=[50,50],\n",
    "                n_inputs=1,\n",
    "                n_parameters=2,\n",
    "                is_iid=True)\n",
    "\n",
    "params = model.init(key, jnp.ones((10,1)))\n",
    "\n",
    "mle, score, F = model.apply(params, jnp.ones((10,1)))"
   ]
  },
  {
   "cell_type": "code",
   "execution_count": 85,
   "metadata": {},
   "outputs": [
    {
     "data": {
      "text/plain": [
       "(2, 2)"
      ]
     },
     "execution_count": 85,
     "metadata": {},
     "output_type": "execute_result"
    }
   ],
   "source": [
    "F.shape"
   ]
  },
  {
   "cell_type": "markdown",
   "metadata": {},
   "source": [
    "# do a regression scheme\n",
    "load in Viraj's data and standardize for the network. we'll pad the input sets with zeros, up to $N_{\\rm halo}=120$. Parameter combinations that result in fewer halos for the population will be automatically downweighted in the inference"
   ]
  },
  {
   "cell_type": "code",
   "execution_count": 109,
   "metadata": {},
   "outputs": [],
   "source": [
    "import pickle\n",
    "from astropy.table import Table\n",
    "from astropy.cosmology import Planck15\n",
    "\n",
    "# read in the pickle which contains a list of dictionaries \n",
    "with open('lucas_variations_fixed.pkl','rb') as f:\n",
    "    dat = pickle.load(f)"
   ]
  },
  {
   "cell_type": "code",
   "execution_count": 110,
   "metadata": {
    "tags": []
   },
   "outputs": [],
   "source": [
    "data_ = np.zeros((len(dat), 120, 3))\n",
    "\n",
    "theta_ = np.zeros((len(dat), 7))\n",
    "for i,d in enumerate(dat):\n",
    "    num_halos = d[\"z0_Mvir\"].shape[0]\n",
    "    data_[i, :num_halos, 0] = d[\"z0_Mstar\"] / d[\"z0_Mvir\"]\n",
    "    data_[i, :num_halos, 1] = np.log10(d[\"z0_Mstar\"])\n",
    "    data_[i, :num_halos, 2] = np.log10(d[\"z0_Mvir\"])\n",
    "    \n",
    "    theta_[i, :] = np.stack([d['etaM_A'],\n",
    "                             d['etaM_alpha0'],\n",
    "                             d['tdep_A'],\n",
    "                             d['tdep_alpha0'],\n",
    "                             d['tdep_beta'],\n",
    "                             d['etaE_A'],\n",
    "                             d['etaE_alpha0']])"
   ]
  },
  {
   "cell_type": "code",
   "execution_count": 111,
   "metadata": {},
   "outputs": [
    {
     "data": {
      "text/plain": [
       "(array([[1573.,  246.,  334., ...,    0.,    0.,    0.],\n",
       "        [1224.,  302.,  291., ...,    0.,    0.,    0.],\n",
       "        [1825.,  316.,   25., ...,    0.,    0.,    0.],\n",
       "        ...,\n",
       "        [1643.,  118.,  107., ...,    0.,    0.,    0.],\n",
       "        [1650.,  103.,   79., ...,    0.,    0.,    0.],\n",
       "        [1717.,   66.,   98., ...,    0.,    0.,    0.]]),\n",
       " array([0.        , 0.02105746, 0.04211492, 0.06317237, 0.08422983,\n",
       "        0.10528729, 0.12634475, 0.1474022 , 0.16845966, 0.18951712,\n",
       "        0.21057458]),\n",
       " <a list of 120 BarContainer objects>)"
      ]
     },
     "execution_count": 111,
     "metadata": {},
     "output_type": "execute_result"
    },
    {
     "data": {
      "image/png": "[encoded data removed]",
      "text/plain": [
       "<Figure size 432x288 with 1 Axes>"
      ]
     },
     "metadata": {
      "needs_background": "light"
     },
     "output_type": "display_data"
    }
   ],
   "source": [
    "plt.hist(data_[..., 0])"
   ]
  },
  {
   "cell_type": "code",
   "execution_count": 112,
   "metadata": {},
   "outputs": [
    {
     "data": {
      "text/plain": [
       "(2187, 7)"
      ]
     },
     "execution_count": 112,
     "metadata": {},
     "output_type": "execute_result"
    }
   ],
   "source": [
    "theta_.shape"
   ]
  },
  {
   "cell_type": "code",
   "execution_count": 113,
   "metadata": {
    "tags": []
   },
   "outputs": [],
   "source": [
    "from sklearn.preprocessing import MinMaxScaler\n",
    "scaler = MinMaxScaler(feature_range=(0.1, 1.0))\n",
    "\n",
    "theta_ = scaler.fit_transform(theta_)"
   ]
  },
  {
   "cell_type": "code",
   "execution_count": 114,
   "metadata": {},
   "outputs": [
    {
     "data": {
      "text/plain": [
       "(2187, 7)"
      ]
     },
     "execution_count": 114,
     "metadata": {},
     "output_type": "execute_result"
    }
   ],
   "source": [
    "theta_.shape"
   ]
  },
  {
   "cell_type": "code",
   "execution_count": 115,
   "metadata": {},
   "outputs": [],
   "source": [
    "# train the network for iid data\n",
    "key = jax.random.PRNGKey(0)\n",
    "\n",
    "model = FishnetDeepset(jnp.ones(7,), \n",
    "                n_hidden_fisher=[128,128], \n",
    "                n_hidden_score=[128,128],\n",
    "                n_hidden_globals=[50,50],\n",
    "                n_inputs=3,\n",
    "                n_parameters=7)\n",
    "\n",
    "w = model.init(key, jnp.ones((120,3)))\n",
    "\n",
    "mle, score, F = model.apply(w, jnp.ones((120,3)))"
   ]
  },
  {
   "cell_type": "code",
   "execution_count": 116,
   "metadata": {},
   "outputs": [
    {
     "data": {
      "text/plain": [
       "Array([-0.5387428 ,  0.21363637, -0.645092  ,  0.91910166, -0.0207474 ,\n",
       "       -0.28191754, -0.50598454], dtype=float32)"
      ]
     },
     "execution_count": 116,
     "metadata": {},
     "output_type": "execute_result"
    }
   ],
   "source": [
    "mle"
   ]
  },
  {
   "cell_type": "code",
   "execution_count": 117,
   "metadata": {},
   "outputs": [
    {
     "data": {
      "text/plain": [
       "84.05179"
      ]
     },
     "execution_count": 117,
     "metadata": {},
     "output_type": "execute_result"
    }
   ],
   "source": [
    "np.linalg.det(F)"
   ]
  },
  {
   "cell_type": "code",
   "execution_count": 118,
   "metadata": {},
   "outputs": [],
   "source": [
    "data_ = jnp.array(data_)\n",
    "theta_ = jnp.array(theta_)"
   ]
  },
  {
   "cell_type": "code",
   "execution_count": 119,
   "metadata": {},
   "outputs": [],
   "source": [
    "batch_size = 27\n",
    "\n",
    "data_ = data_.reshape(-1, batch_size, 120, 3)\n",
    "theta_ = theta_.reshape(-1, batch_size, 7)"
   ]
  },
  {
   "cell_type": "code",
   "execution_count": 120,
   "metadata": {},
   "outputs": [],
   "source": [
    "@jax.jit\n",
    "def kl_loss(w, x_batched, theta_batched):\n",
    "\n",
    "    def fn(x, theta):\n",
    "       mle,score,F = model.apply(w, x)\n",
    "       return mle, F\n",
    "    \n",
    "    mle, F = jax.vmap(fn)(x_batched, theta_batched)\n",
    "\n",
    "    return -jnp.mean(-0.5 * jnp.einsum('ij,ij->i', (theta_batched - mle), \\\n",
    "                                             jnp.einsum('ijk,ik->ij', F, (theta_batched - mle))) \\\n",
    "                                                  + 0.5*jnp.log(jnp.linalg.det(F)), axis=0)"
   ]
  },
  {
   "cell_type": "code",
   "execution_count": 121,
   "metadata": {},
   "outputs": [
    {
     "data": {
      "text/plain": [
       "Array(45.801704, dtype=float32)"
      ]
     },
     "execution_count": 121,
     "metadata": {},
     "output_type": "execute_result"
    }
   ],
   "source": [
    "kl_loss(w, data_[10], theta_[10])"
   ]
  },
  {
   "cell_type": "code",
   "execution_count": 122,
   "metadata": {},
   "outputs": [],
   "source": [
    "from tqdm import tqdm\n",
    "import optax\n",
    "tx = optax.adam(learning_rate=1e-4)\n",
    "opt_state = tx.init(w)\n",
    "loss_grad_fn = jax.value_and_grad(kl_loss)\n",
    "\n",
    "\n",
    "batch_size = 27\n",
    "epochs = 100\n"
   ]
  },
  {
   "cell_type": "code",
   "execution_count": 123,
   "metadata": {},
   "outputs": [],
   "source": [
    "def body_fun(i, inputs):\n",
    "    w,loss_val, opt_state = inputs\n",
    "    x_samples = _data[i]\n",
    "    y_samples = _theta[i]\n",
    "\n",
    "    loss_val, grads = loss_grad_fn(w, x_samples, y_samples)\n",
    "    updates, opt_state = tx.update(grads, opt_state)\n",
    "    w = optax.apply_updates(w, updates)\n",
    "    \n",
    "    return w, loss_val, opt_state"
   ]
  },
  {
   "cell_type": "code",
   "execution_count": 151,
   "metadata": {},
   "outputs": [
    {
     "name": "stderr",
     "output_type": "stream",
     "text": [
      "epoch 99 loss: -7.03036: 100%|██████████| 100/100 [04:03<00:00,  2.44s/it]\n"
     ]
    }
   ],
   "source": [
    "key = jax.random.PRNGKey(999)\n",
    "\n",
    "losses = jnp.zeros(epochs)\n",
    "\n",
    "loss_val = 0.\n",
    "\n",
    "n_train = 2187\n",
    "\n",
    "lower = 0\n",
    "upper = n_train // batch_size\n",
    "\n",
    "pbar = tqdm(range(epochs), leave=True, position=0)\n",
    "\n",
    "for j in pbar:\n",
    "      key,rng = jax.random.split(key)\n",
    "\n",
    "      # shuffle data every epoch\n",
    "      randidx = jax.random.shuffle(key, jnp.arange(theta_.reshape(-1, 7).shape[0]))\n",
    "      _data = data_.reshape(-1, 120, 3)[randidx].reshape(batch_size, -1, 120, 3)\n",
    "      _theta = theta_.reshape(-1, 7)[randidx].reshape(batch_size, -1, 7)\n",
    "\n",
    "      inits = (w, loss_val, opt_state)\n",
    "\n",
    "      w, loss_val, opt_state = jax.lax.fori_loop(lower, upper, body_fun, inits)\n",
    "\n",
    "      losses = losses.at[j].set(loss_val)\n",
    "      #val_losses.append(val_loss)\n",
    "      pbar.set_description('epoch %d loss: %.5f'%(j, loss_val))"
   ]
  },
  {
   "cell_type": "code",
   "execution_count": 154,
   "metadata": {},
   "outputs": [
    {
     "data": {
      "text/plain": [
       "[<matplotlib.lines.Line2D at 0x7ff21958f0a0>]"
      ]
     },
     "execution_count": 154,
     "metadata": {},
     "output_type": "execute_result"
    },
    {
     "data": {
      "image/png": "[encoded data removed]",
      "text/plain": [
       "<Figure size 432x288 with 1 Axes>"
      ]
     },
     "metadata": {
      "needs_background": "light"
     },
     "output_type": "display_data"
    }
   ],
   "source": [
    "plt.plot(losses)"
   ]
  },
  {
   "cell_type": "code",
   "execution_count": 139,
   "metadata": {},
   "outputs": [
    {
     "data": {
      "text/plain": [
       "(81, 27, 120, 3)"
      ]
     },
     "execution_count": 139,
     "metadata": {},
     "output_type": "execute_result"
    }
   ],
   "source": [
    "data_.shape"
   ]
  },
  {
   "cell_type": "code",
   "execution_count": 155,
   "metadata": {},
   "outputs": [],
   "source": [
    "_app = lambda d: model.apply(w, d)\n",
    "\n",
    "mle_pred,_,F_pred = jax.vmap(_app)(data_.reshape(-1, 120, 3)[:])"
   ]
  },
  {
   "cell_type": "code",
   "execution_count": 156,
   "metadata": {
    "tags": []
   },
   "outputs": [
    {
     "data": {
      "text/plain": [
       "(array([ 57.,  78., 278., 411., 625., 190., 174., 152., 162.,  60.]),\n",
       " array([-0.7795315 , -0.6122401 , -0.44494867, -0.27765724, -0.11036585,\n",
       "         0.05692557,  0.22421697,  0.39150837,  0.5587998 ,  0.7260912 ,\n",
       "         0.8933826 ], dtype=float32),\n",
       " <BarContainer object of 10 artists>)"
      ]
     },
     "execution_count": 156,
     "metadata": {},
     "output_type": "execute_result"
    },
    {
     "data": {
      "image/png": "[encoded data removed]",
      "text/plain": [
       "<Figure size 432x288 with 1 Axes>"
      ]
     },
     "metadata": {
      "needs_background": "light"
     },
     "output_type": "display_data"
    }
   ],
   "source": [
    "plt.hist((theta_.reshape(-1, 7) - mle_pred)[:, 2])"
   ]
  },
  {
   "cell_type": "code",
   "execution_count": 157,
   "metadata": {},
   "outputs": [
    {
     "data": {
      "text/plain": [
       "<matplotlib.collections.PathCollection at 0x7ff27a3a9340>"
      ]
     },
     "execution_count": 157,
     "metadata": {},
     "output_type": "execute_result"
    },
    {
     "data": {
      "image/png": "[encoded data removed]",
      "text/plain": [
       "<Figure size 432x288 with 2 Axes>"
      ]
     },
     "metadata": {
      "needs_background": "light"
     },
     "output_type": "display_data"
    }
   ],
   "source": [
    "plt.subplot(121)\n",
    "plt.scatter(theta_.reshape(-1,7)[:, 3], mle_pred[:, 3], s=2)\n",
    "plt.subplot(122)\n",
    "plt.scatter(theta_.reshape(-1,7)[:, 1], mle_pred[:, 1], s=2)"
   ]
  },
  {
   "cell_type": "code",
   "execution_count": 152,
   "metadata": {},
   "outputs": [],
   "source": [
    "num_sims = 5000 # arbitrary\n",
    "num_halos_per_sim = 120 # fixed\n",
    "\n",
    "theta0 = np.random.uniform(low=0, high=23, size=(num_sims,))\n",
    "theta1 = np.random.uniform(low=0, high=23, size=(num_sims,))\n",
    "\n",
    "theta_total = np.stack([theta0, theta1,], -1) # should be shape (num_sims, 7)"
   ]
  },
  {
   "cell_type": "code",
   "execution_count": 153,
   "metadata": {},
   "outputs": [
    {
     "data": {
      "text/plain": [
       "(5000, 2)"
      ]
     },
     "execution_count": 153,
     "metadata": {},
     "output_type": "execute_result"
    }
   ],
   "source": [
    "theta_total.shape"
   ]
  },
  {
   "cell_type": "code",
   "execution_count": 152,
   "metadata": {},
   "outputs": [],
   "source": [
    "@jax.jit\n",
    "def Fisher(θ, n_d=n_d):\n",
    "    Σ = θ[1]\n",
    "    return jnp.array([[n_d / Σ, 0.], [0., n_d / (2. * Σ**2.)]])\n",
    "\n",
    "F_true = jax.vmap(Fisher)(theta_.reshape(-1, 2)[-1000:])"
   ]
  },
  {
   "cell_type": "code",
   "execution_count": 153,
   "metadata": {},
   "outputs": [
    {
     "data": {
      "text/plain": [
       "Array([[[112.028824,   0.      ],\n",
       "        [  0.      ,  62.75229 ]],\n",
       "\n",
       "       [[192.69997 ,   0.      ],\n",
       "        [  0.      , 185.66637 ]],\n",
       "\n",
       "       [[ 50.472633,   0.      ],\n",
       "        [  0.      ,  12.737433]],\n",
       "\n",
       "       [[ 91.64879 ,   0.      ],\n",
       "        [  0.      ,  41.9975  ]],\n",
       "\n",
       "       [[ 46.800247,   0.      ],\n",
       "        [  0.      ,  10.951315]]], dtype=float32)"
      ]
     },
     "execution_count": 153,
     "metadata": {},
     "output_type": "execute_result"
    }
   ],
   "source": [
    "F_true[:5]"
   ]
  },
  {
   "cell_type": "code",
   "execution_count": 154,
   "metadata": {},
   "outputs": [
    {
     "data": {
      "text/plain": [
       "Array([[[129.65286   ,  -1.5524082 ],\n",
       "        [ -1.5524082 ,  38.539387  ]],\n",
       "\n",
       "       [[176.33308   ,  -0.83014643],\n",
       "        [ -0.83014643, 130.63501   ]],\n",
       "\n",
       "       [[ 41.35161   ,   0.44327524],\n",
       "        [  0.44327524,  12.2382    ]],\n",
       "\n",
       "       [[ 76.86422   ,   0.66495377],\n",
       "        [  0.66495377,  30.64038   ]],\n",
       "\n",
       "       [[ 46.99787   ,  -1.1218075 ],\n",
       "        [ -1.1218075 ,  18.543173  ]]], dtype=float32)"
      ]
     },
     "execution_count": 154,
     "metadata": {},
     "output_type": "execute_result"
    }
   ],
   "source": [
    "F_pred[:5]"
   ]
  },
  {
   "cell_type": "code",
   "execution_count": 155,
   "metadata": {},
   "outputs": [],
   "source": [
    "θ_fid = jnp.array([0.0, 1.25])\n",
    "\n",
    "lo = [-1.0, 0.5]\n",
    "hi = [1.0, 3.0]\n",
    "\n",
    "num = 10\n",
    "\n",
    "xs = jnp.linspace(-1.0, 1.0, num) # MEAN\n",
    "ys = jnp.linspace(0.5, 3.0, num) #jnp.logspace(-1.0, 0.0, num) # VARIANCE\n",
    "\n",
    "\n",
    "xs,ys = jnp.meshgrid(xs, ys)\n",
    "\n",
    "fishers = []\n",
    "\n",
    "for _mu,_sigma in zip(xs.ravel(), ys.ravel()):\n",
    "  fishers.append(Fisher(jnp.array([_mu,_sigma]), n_d=n_d))"
   ]
  },
  {
   "cell_type": "code",
   "execution_count": 156,
   "metadata": {},
   "outputs": [
    {
     "name": "stderr",
     "output_type": "stream",
     "text": [
      "No artists with labels found to put in legend.  Note that artists whose label start with an underscore are ignored when legend() is called with no argument.\n"
     ]
    },
    {
     "data": {
      "image/png": "[encoded data removed]",
      "text/plain": [
       "<Figure size 432x288 with 2 Axes>"
      ]
     },
     "metadata": {
      "needs_background": "light"
     },
     "output_type": "display_data"
    }
   ],
   "source": [
    "_data = jax.vmap(jnp.linalg.det)(jnp.array(fishers)).reshape(xs.shape) #/ ys #jnp.array(fishers)[:, 0, 0].reshape(xs.shape) / ys #jax.vmap(jnp.linalg.det)(jnp.array(fishers)).reshape(xs.shape)\n",
    "\n",
    "im = plt.contourf(xs, ys, 0.5*np.log(_data), cmap='viridis', levels=10)\n",
    "cbar = plt.colorbar(im)\n",
    "#plt.yscale('log')\n",
    "plt.ylabel('$\\Sigma$')\n",
    "plt.xlabel('$\\mu$')\n",
    "plt.title(r'$ \\frac{1}{2} \\ln \\det F_{\\rm true}(\\theta)$')\n",
    "plt.legend(framealpha=0., loc='lower left')\n",
    "plt.show()"
   ]
  },
  {
   "cell_type": "code",
   "execution_count": 157,
   "metadata": {},
   "outputs": [
    {
     "name": "stderr",
     "output_type": "stream",
     "text": [
      "100it [00:27,  3.62it/s]\n"
     ]
    }
   ],
   "source": [
    "fishers_pred = []\n",
    "\n",
    "key = jr.PRNGKey(99)\n",
    "n_d_test = 500\n",
    "\n",
    "def _getf(d):\n",
    "    return model.apply(w, d)[2]\n",
    "\n",
    "\n",
    "for mu,sigma in tqdm(zip(xs.ravel(), ys.ravel())):\n",
    "  # generate many data realization at each gridpoint\n",
    "    key, rng = jr.split(key)\n",
    "    keys = jr.split(key, 2000)\n",
    "\n",
    "    sims = jax.vmap(simulator)(keys, jnp.tile(jnp.array([[mu], [sigma]]), 2000).T)[:, :, jnp.newaxis]\n",
    "    \n",
    "    fpreds = jax.vmap(_getf)(sims)\n",
    "\n",
    "    fishers_pred.append(jnp.mean(fpreds, axis=0))"
   ]
  },
  {
   "cell_type": "code",
   "execution_count": 158,
   "metadata": {},
   "outputs": [
    {
     "data": {
      "text/plain": [
       "Array(2109.3748, dtype=float32)"
      ]
     },
     "execution_count": 158,
     "metadata": {},
     "output_type": "execute_result"
    }
   ],
   "source": [
    "jnp.linalg.det(fishers[30])\n"
   ]
  },
  {
   "cell_type": "code",
   "execution_count": 159,
   "metadata": {},
   "outputs": [
    {
     "data": {
      "text/plain": [
       "Array(1923.811, dtype=float32)"
      ]
     },
     "execution_count": 159,
     "metadata": {},
     "output_type": "execute_result"
    }
   ],
   "source": [
    "jnp.linalg.det(fishers_pred[30])"
   ]
  },
  {
   "cell_type": "code",
   "execution_count": 160,
   "metadata": {},
   "outputs": [
    {
     "name": "stderr",
     "output_type": "stream",
     "text": [
      "No artists with labels found to put in legend.  Note that artists whose label start with an underscore are ignored when legend() is called with no argument.\n"
     ]
    },
    {
     "data": {
      "image/png": "[encoded data removed]",
      "text/plain": [
       "<Figure size 432x288 with 2 Axes>"
      ]
     },
     "metadata": {
      "needs_background": "light"
     },
     "output_type": "display_data"
    }
   ],
   "source": [
    "_data = jax.vmap(jnp.linalg.det)(jnp.array(fishers_pred)).reshape(xs.shape) #/ ys#jnp.array(fishers_pred)[:, 1, 1].reshape(xs.shape) / ys#jax.vmap(jnp.linalg.det)(jnp.array(fishers_pred)).reshape(xs.shape)\n",
    "\n",
    "im = plt.contourf(xs, ys, 0.5*np.log(_data), cmap='viridis', levels=10)\n",
    "plt.colorbar(im)\n",
    "#plt.yscale('log')\n",
    "plt.ylabel('$\\Sigma$')\n",
    "plt.xlabel('$\\mu$')\n",
    "plt.title(r'$ \\frac{1}{2} \\ln \\det \\langle F_{\\rm NN}(\\theta) \\rangle $')\n",
    "plt.legend(framealpha=0., loc='lower left')\n",
    "plt.show()"
   ]
  },
  {
   "cell_type": "code",
   "execution_count": 146,
   "metadata": {},
   "outputs": [
    {
     "data": {
      "text/plain": [
       "'/Users/lucas/repositories/sapphire_sbi'"
      ]
     },
     "execution_count": 146,
     "metadata": {},
     "output_type": "execute_result"
    }
   ],
   "source": [
    "pwd"
   ]
  },
  {
   "cell_type": "code",
   "execution_count": 919,
   "metadata": {},
   "outputs": [],
   "source": [
    "np.save(\"iidnoise_fishers_pred\", fishers_pred)\n",
    "np.save(\"iidnoise_fishers_true\", fishers)\n",
    "\n",
    "np.save(\"xy_grid\", (xs, ys))"
   ]
  },
  {
   "cell_type": "code",
   "execution_count": 161,
   "metadata": {},
   "outputs": [
    {
     "data": {
      "image/png": "[encoded data removed]",
      "text/plain": [
       "<Figure size 576x288 with 3 Axes>"
      ]
     },
     "metadata": {
      "needs_background": "light"
     },
     "output_type": "display_data"
    }
   ],
   "source": [
    "fig, axs = plt.subplots(nrows=1, ncols=2, figsize=(8,4), sharex=\"col\", sharey=True)\n",
    "(ax1, ax2) = axs\n",
    "\n",
    "levels = [2.5, 3.0, 3.5, 4.0, 4.5, 5.0, 5.5]\n",
    "\n",
    "dets1 =  jax.vmap(jnp.linalg.det)(jnp.array(fishers)).reshape(xs.shape)\n",
    "\n",
    "ax1.contourf(xs, ys, 0.5*np.log(dets1), cmap='viridis', levels=levels)\n",
    "\n",
    "dets2 = jax.vmap(jnp.linalg.det)(jnp.array(fishers_pred)).reshape(xs.shape) \n",
    "\n",
    "cs2 = ax2.contourf(xs, ys, 0.5*np.log(dets2), cmap='viridis', levels=levels)\n",
    "\n",
    "plt.colorbar(cs2)\n",
    "\n",
    "ax1.set_title(r'$ \\frac{1}{2} \\ln \\det F_{\\rm true}(\\theta)$')\n",
    "\n",
    "ax1.set_ylabel('$\\Sigma$')\n",
    "ax1.set_xlabel('$\\mu$')\n",
    "\n",
    "ax2.set_xlabel('$\\mu$')\n",
    "ax2.set_title(r'$ \\frac{1}{2} \\ln \\det \\langle F_{\\rm NN}(\\theta) \\rangle $')\n",
    "plt.tight_layout()\n",
    "\n",
    "#plt.savefig(\"/Users/lucas/Documents/Documents - MacBook Pro di Admin/imperial/fishnets/info-comparison.png\", dpi=400)"
   ]
  },
  {
   "cell_type": "code",
   "execution_count": 132,
   "metadata": {},
   "outputs": [
    {
     "name": "stderr",
     "output_type": "stream",
     "text": [
      "No artists with labels found to put in legend.  Note that artists whose label start with an underscore are ignored when legend() is called with no argument.\n"
     ]
    },
    {
     "data": {
      "image/png": "[encoded data removed]",
      "text/plain": [
       "<Figure size 432x288 with 2 Axes>"
      ]
     },
     "metadata": {
      "needs_background": "light"
     },
     "output_type": "display_data"
    }
   ],
   "source": [
    "_data = jax.vmap(jnp.linalg.det)(jnp.array(fishers_pred) - jnp.array(fishers)).reshape(xs.shape)\n",
    "\n",
    "\n",
    "im = plt.contourf(xs, ys, (_data), cmap='viridis', levels=100)\n",
    "plt.colorbar(im)\n",
    "#plt.yscale('log')\n",
    "plt.ylabel('$\\Sigma$')\n",
    "plt.xlabel('$\\mu$')\n",
    "plt.title(r'$ \\frac{1}{2} \\ln \\det F(\\theta)$')\n",
    "plt.legend(framealpha=0., loc='lower left')\n",
    "plt.show()"
   ]
  },
  {
   "cell_type": "code",
   "execution_count": 421,
   "metadata": {},
   "outputs": [
    {
     "data": {
      "text/plain": [
       "Array([[9.830508, 0.      ],\n",
       "       [0.      , 4.831945]], dtype=float32)"
      ]
     },
     "execution_count": 421,
     "metadata": {},
     "output_type": "execute_result"
    }
   ],
   "source": [
    "fishers[200]"
   ]
  },
  {
   "cell_type": "code",
   "execution_count": null,
   "metadata": {},
   "outputs": [],
   "source": []
  }
 ],
 "metadata": {
  "kernelspec": {
   "display_name": "Python 3",
   "language": "python",
   "name": "python3"
  },
  "language_info": {
   "codemirror_mode": {
    "name": "ipython",
    "version": 3
   },
   "file_extension": ".py",
   "mimetype": "text/x-python",
   "name": "python",
   "nbconvert_exporter": "python",
   "pygments_lexer": "ipython3",
   "version": "3.8.8"
  },
  "vscode": {
   "interpreter": {
    "hash": "40d3a090f54c6569ab1632332b64b2c03c39dcf918b08424e98f38b5ae0af88f"
   }
  }
 },
 "nbformat": 4,
 "nbformat_minor": 4
}
